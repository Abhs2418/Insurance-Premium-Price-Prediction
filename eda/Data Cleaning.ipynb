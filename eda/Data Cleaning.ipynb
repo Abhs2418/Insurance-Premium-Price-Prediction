{
 "cells": [
  {
   "cell_type": "code",
   "execution_count": 1,
   "id": "5560a613",
   "metadata": {},
   "outputs": [],
   "source": [
    "# Intialization\n",
    "import os\n",
    "import sys\n",
    "\n",
    "os.environ[\"SPARK_HOME\"] = \"/home/talentum/spark\"\n",
    "os.environ[\"PYLIB\"] = os.environ[\"SPARK_HOME\"] + \"/python/lib\"\n",
    "# In below two lines, use /usr/bin/python2.7 if you want to use Python 2\n",
    "os.environ[\"PYSPARK_PYTHON\"] = \"/usr/bin/python3.6\" \n",
    "os.environ[\"PYSPARK_DRIVER_PYTHON\"] = \"/usr/bin/python3\"\n",
    "sys.path.insert(0, os.environ[\"PYLIB\"] +\"/py4j-0.10.7-src.zip\")\n",
    "sys.path.insert(0, os.environ[\"PYLIB\"] +\"/pyspark.zip\")\n",
    "\n",
    "# NOTE: Whichever package you want mention here.\n",
    "# os.environ['PYSPARK_SUBMIT_ARGS'] = '--packages com.databricks:spark-xml_2.11:0.6.0 pyspark-shell' \n",
    "# os.environ['PYSPARK_SUBMIT_ARGS'] = '--packages org.apache.spark:spark-avro_2.11:2.4.0 pyspark-shell'\n",
    "os.environ['PYSPARK_SUBMIT_ARGS'] = '--packages com.databricks:spark-xml_2.11:0.6.0,org.apache.spark:spark-avro_2.11:2.4.3 pyspark-shell'\n",
    "# os.environ['PYSPARK_SUBMIT_ARGS'] = '--packages com.databricks:spark-xml_2.11:0.6.0,org.apache.spark:spark-avro_2.11:2.4.0 pyspark-shell''"
   ]
  },
  {
   "cell_type": "code",
   "execution_count": 2,
   "id": "5bf48c04",
   "metadata": {},
   "outputs": [],
   "source": [
    "#Entrypoint 2.x\n",
    "from pyspark.sql import SparkSession\n",
    "spark = SparkSession.builder.appName(\"Data cleaning\").enableHiveSupport().getOrCreate()\n",
    "\n",
    "# On yarn:\n",
    "# spark = SparkSession.builder.appName(\"Spark SQL basic example\").enableHiveSupport().master(\"yarn\").getOrCreate()\n",
    "# specify .master(\"yarn\")\n",
    "\n",
    "sc = spark.sparkContext"
   ]
  },
  {
   "cell_type": "code",
   "execution_count": 88,
   "id": "275d2056",
   "metadata": {},
   "outputs": [],
   "source": [
    "#Importing libraries\n",
    "from pyspark.sql.functions import col, year, month, dayofmonth, dayofweek, date_format,when,monotonically_increasing_id\n",
    "from pyspark.sql.functions import sin, cos, lit, floor\n",
    "import pyspark.sql.functions as F\n",
    "from math import pi\n",
    "from pyspark.ml.feature import StringIndexer, OneHotEncoder\n",
    "from pyspark.ml import Pipeline\n",
    "from pyspark.ml.feature import Imputer"
   ]
  },
  {
   "cell_type": "code",
   "execution_count": 4,
   "id": "11e775c8",
   "metadata": {},
   "outputs": [],
   "source": [
    "df = spark.read.csv(\"/user/hive/warehouse/insurance/Insurance Premium Prediction.csv\", header=True, inferSchema=True)"
   ]
  },
  {
   "cell_type": "code",
   "execution_count": 5,
   "id": "bb032290",
   "metadata": {},
   "outputs": [
    {
     "name": "stdout",
     "output_type": "stream",
     "text": [
      "+---+----+------+-------------+--------------+--------------------+---------------+-------------+------------------+--------+-------------+---------------+-----------+------------+------------------+--------------------+-----------------+--------------+------------------+-------------+--------------+\n",
      "| id| Age|Gender|Annual Income|Marital Status|Number of Dependents|Education Level|   Occupation|      Health Score|Location|  Policy Type|Previous Claims|Vehicle Age|Credit Score|Insurance Duration|   Policy Start Date|Customer Feedback|Smoking Status|Exercise Frequency|Property Type|Premium Amount|\n",
      "+---+----+------+-------------+--------------+--------------------+---------------+-------------+------------------+--------+-------------+---------------+-----------+------------+------------------+--------------------+-----------------+--------------+------------------+-------------+--------------+\n",
      "|  0|19.0|Female|      10049.0|       Married|                 1.0|     Bachelor's|Self-Employed| 22.59876067181393|   Urban|      Premium|            2.0|       17.0|       372.0|               5.0|2023-12-23 15:21:...|             Poor|            No|            Weekly|        House|        2869.0|\n",
      "|  1|39.0|Female|      31678.0|      Divorced|                 3.0|       Master's|         null|15.569730989408043|   Rural|Comprehensive|            1.0|       12.0|       694.0|               2.0|2023-06-12 15:21:...|          Average|           Yes|           Monthly|        House|        1483.0|\n",
      "|  2|23.0|  Male|      25602.0|      Divorced|                 3.0|    High School|Self-Employed| 47.17754928786464|Suburban|      Premium|            1.0|       14.0|        null|               3.0|2023-09-30 15:21:...|             Good|           Yes|            Weekly|        House|         567.0|\n",
      "|  3|21.0|  Male|     141855.0|       Married|                 2.0|     Bachelor's|         null|10.938144158664583|   Rural|        Basic|            1.0|        0.0|       367.0|               1.0|2024-06-12 15:21:...|             Poor|           Yes|             Daily|    Apartment|         765.0|\n",
      "|  4|21.0|  Male|      39651.0|        Single|                 1.0|     Bachelor's|Self-Employed|20.376093627736925|   Rural|      Premium|            0.0|        8.0|       598.0|               4.0|2021-12-01 15:21:...|             Poor|           Yes|            Weekly|        House|        2022.0|\n",
      "|  5|29.0|  Male|      45963.0|       Married|                 1.0|     Bachelor's|         null| 33.05319768402281|   Urban|      Premium|            2.0|        4.0|       614.0|               5.0|2022-05-20 15:21:...|          Average|            No|            Weekly|        House|        3202.0|\n",
      "|  6|41.0|  Male|      40336.0|       Married|                 0.0|            PhD|         null|              null|   Rural|        Basic|            2.0|        8.0|       807.0|               6.0|2020-02-21 15:21:...|             Poor|            No|            Weekly|        House|         439.0|\n",
      "|  7|48.0|Female|     127237.0|      Divorced|                 2.0|    High School|     Employed| 5.769783092512088|Suburban|Comprehensive|            1.0|       11.0|       398.0|               5.0|2022-08-08 15:21:...|          Average|            No|            Rarely|        Condo|         111.0|\n",
      "|  8|21.0|  Male|       1733.0|      Divorced|                 3.0|     Bachelor's|         null|17.869550814826297|   Urban|      Premium|            1.0|       10.0|       685.0|               8.0|2020-12-14 15:21:...|          Average|            No|           Monthly|        Condo|         213.0|\n",
      "|  9|44.0|  Male|      52447.0|       Married|                 2.0|       Master's|     Employed| 20.47371785695596|   Urban|Comprehensive|            1.0|        9.0|       635.0|               3.0|2020-08-02 15:21:...|             Poor|            No|             Daily|        Condo|          64.0|\n",
      "| 10|56.0|Female|       8054.0|       Married|                 1.0|     Bachelor's|   Unemployed|              null|   Rural|      Premium|            1.0|        8.0|       431.0|               8.0|2021-05-12 15:21:...|          Average|            No|           Monthly|        Condo|         857.0|\n",
      "| 11|23.0|  Male|      30983.0|        Single|                 3.0|       Master's|         null| 5.813128940949042|   Urban|      Premium|           null|        6.0|       597.0|               8.0|2020-03-22 15:21:...|             Good|            No|            Rarely|        Condo|        1447.0|\n",
      "| 12|25.0|Female|      23706.0|        Single|                 4.0|       Master's|     Employed| 4.090538023921365|   Urban|Comprehensive|            2.0|       19.0|        null|               2.0|2021-10-28 15:21:...|             Poor|           Yes|            Weekly|    Apartment|         703.0|\n",
      "| 13|44.0|Female|      70893.0|        Single|                 0.0|     Bachelor's|         null| 55.89632239159919|Suburban|      Premium|            0.0|        3.0|       511.0|               6.0|2023-01-20 15:21:...|             Good|           Yes|            Weekly|        House|        1847.0|\n",
      "| 14|40.0|Female|      23897.0|      Divorced|                null|    High School|Self-Employed| 29.08203615642357|Suburban|        Basic|            2.0|       15.0|       498.0|               1.0|2021-08-14 15:21:...|             Good|            No|            Rarely|        Condo|          30.0|\n",
      "| 15|18.0|  Male|       6076.0|       Married|                 2.0|    High School|     Employed| 7.442964015746718|   Urban|      Premium|            1.0|       12.0|       584.0|               5.0|2020-10-17 15:21:...|             Good|           Yes|           Monthly|    Apartment|         849.0|\n",
      "| 16|59.0|Female|      28266.0|      Divorced|                 2.0|            PhD|   Unemployed| 21.67346054211263|   Urban|        Basic|            0.0|       16.0|        null|               3.0|2024-04-22 15:21:...|          Average|           Yes|            Weekly|        Condo|         183.0|\n",
      "| 17|34.0|Female|      45907.0|      Divorced|                 4.0|    High School|Self-Employed|  24.0596387644636|Suburban|Comprehensive|            0.0|        0.0|       694.0|               8.0|2020-12-27 15:21:...|             Poor|           Yes|             Daily|        Condo|         643.0|\n",
      "| 18|18.0|  Male|      29071.0|       Married|                null|     Bachelor's|     Employed|  20.8389765352726|   Rural|      Premium|            1.0|        5.0|        null|               3.0|2021-10-13 15:21:...|             Poor|           Yes|            Rarely|    Apartment|         787.0|\n",
      "| 19|40.0|Female|     123751.0|        Single|                 2.0|       Master's|Self-Employed| 24.95531647911226|Suburban|      Premium|            0.0|        8.0|       420.0|               2.0|2020-06-25 15:21:...|             Good|           Yes|            Rarely|        Condo|          40.0|\n",
      "+---+----+------+-------------+--------------+--------------------+---------------+-------------+------------------+--------+-------------+---------------+-----------+------------+------------------+--------------------+-----------------+--------------+------------------+-------------+--------------+\n",
      "only showing top 20 rows\n",
      "\n"
     ]
    }
   ],
   "source": [
    "df.show()"
   ]
  },
  {
   "cell_type": "code",
   "execution_count": 6,
   "id": "fc0e6717",
   "metadata": {},
   "outputs": [
    {
     "name": "stdout",
     "output_type": "stream",
     "text": [
      "root\n",
      " |-- id: integer (nullable = true)\n",
      " |-- Age: double (nullable = true)\n",
      " |-- Gender: string (nullable = true)\n",
      " |-- Annual Income: double (nullable = true)\n",
      " |-- Marital Status: string (nullable = true)\n",
      " |-- Number of Dependents: double (nullable = true)\n",
      " |-- Education Level: string (nullable = true)\n",
      " |-- Occupation: string (nullable = true)\n",
      " |-- Health Score: double (nullable = true)\n",
      " |-- Location: string (nullable = true)\n",
      " |-- Policy Type: string (nullable = true)\n",
      " |-- Previous Claims: double (nullable = true)\n",
      " |-- Vehicle Age: double (nullable = true)\n",
      " |-- Credit Score: double (nullable = true)\n",
      " |-- Insurance Duration: double (nullable = true)\n",
      " |-- Policy Start Date: timestamp (nullable = true)\n",
      " |-- Customer Feedback: string (nullable = true)\n",
      " |-- Smoking Status: string (nullable = true)\n",
      " |-- Exercise Frequency: string (nullable = true)\n",
      " |-- Property Type: string (nullable = true)\n",
      " |-- Premium Amount: double (nullable = true)\n",
      "\n"
     ]
    }
   ],
   "source": [
    "df.printSchema()"
   ]
  },
  {
   "cell_type": "code",
   "execution_count": 7,
   "id": "75d08f8d",
   "metadata": {},
   "outputs": [
    {
     "data": {
      "text/plain": [
       "DataFrame[summary: string, id: string, Age: string, Gender: string, Annual Income: string, Marital Status: string, Number of Dependents: string, Education Level: string, Occupation: string, Health Score: string, Location: string, Policy Type: string, Previous Claims: string, Vehicle Age: string, Credit Score: string, Insurance Duration: string, Customer Feedback: string, Smoking Status: string, Exercise Frequency: string, Property Type: string, Premium Amount: string]"
      ]
     },
     "execution_count": 7,
     "metadata": {},
     "output_type": "execute_result"
    }
   ],
   "source": [
    "df.describe()"
   ]
  },
  {
   "cell_type": "code",
   "execution_count": 15,
   "id": "1a88986d",
   "metadata": {},
   "outputs": [
    {
     "name": "stdout",
     "output_type": "stream",
     "text": [
      "Categorical Columns: ['Gender', 'Marital Status', 'Education Level', 'Occupation', 'Location', 'Policy Type', 'Policy Start Date', 'Customer Feedback', 'Smoking Status', 'Exercise Frequency', 'Property Type']\n",
      "Numerical Columns: ['id', 'Age', 'Annual Income', 'Number of Dependents', 'Health Score', 'Previous Claims', 'Vehicle Age', 'Credit Score', 'Insurance Duration', 'Premium Amount']\n"
     ]
    }
   ],
   "source": [
    "# Get the data types of each column\n",
    "column_types = df.dtypes\n",
    "\n",
    "# Initialize lists for categorical and numerical columns\n",
    "categorical_features = []\n",
    "numerical_features = []\n",
    "\n",
    "# Classify columns based on their data types\n",
    "for cols in column_types:\n",
    "    column=cols[0]\n",
    "    dtype=cols[1]\n",
    "    if dtype in ['string', 'boolean','timestamp']:  # Categorical types\n",
    "        categorical_features.append(column)\n",
    "    elif dtype in ['int', 'bigint', 'float', 'double', 'decimal']:  # Numerical types\n",
    "        numerical_features.append(column)\n",
    "\n",
    "# Display the results\n",
    "print(\"Categorical Columns:\", categorical_features)\n",
    "print(\"Numerical Columns:\", numerical_features)\n"
   ]
  },
  {
   "cell_type": "code",
   "execution_count": 17,
   "id": "d624cd0f",
   "metadata": {},
   "outputs": [
    {
     "name": "stdout",
     "output_type": "stream",
     "text": [
      "Gender  with  2  unique values\n",
      "Marital Status  with  4  unique values\n",
      "Education Level  with  4  unique values\n",
      "Occupation  with  4  unique values\n",
      "Location  with  3  unique values\n",
      "Policy Type  with  3  unique values\n",
      "Customer Feedback  with  4  unique values\n",
      "Smoking Status  with  2  unique values\n",
      "Exercise Frequency  with  4  unique values\n",
      "Property Type  with  3  unique values\n"
     ]
    }
   ],
   "source": [
    "#Printing unique values in each categorical col\n",
    "for col in categorical_features:\n",
    "    if(col!='Policy Start Date'):\n",
    "        print(col,\" with \",df.select(col).distinct().count(),\" unique values\")"
   ]
  },
  {
   "cell_type": "code",
   "execution_count": 18,
   "id": "d6a3568f",
   "metadata": {},
   "outputs": [
    {
     "name": "stdout",
     "output_type": "stream",
     "text": [
      "+------+------+\n",
      "|Gender| count|\n",
      "+------+------+\n",
      "|Female|597429|\n",
      "|  Male|602571|\n",
      "+------+------+\n",
      "\n",
      "None\n",
      "+--------------+------+\n",
      "|Marital Status| count|\n",
      "+--------------+------+\n",
      "|          null| 18529|\n",
      "|       Married|394316|\n",
      "|      Divorced|391764|\n",
      "|        Single|395391|\n",
      "+--------------+------+\n",
      "\n",
      "None\n",
      "+---------------+------+\n",
      "|Education Level| count|\n",
      "+---------------+------+\n",
      "|    High School|289441|\n",
      "|            PhD|303507|\n",
      "|     Bachelor's|303234|\n",
      "|       Master's|303818|\n",
      "+---------------+------+\n",
      "\n",
      "None\n",
      "+-------------+------+\n",
      "|   Occupation| count|\n",
      "+-------------+------+\n",
      "|     Employed|282750|\n",
      "|         null|358075|\n",
      "|Self-Employed|282645|\n",
      "|   Unemployed|276530|\n",
      "+-------------+------+\n",
      "\n",
      "None\n",
      "+--------+------+\n",
      "|Location| count|\n",
      "+--------+------+\n",
      "|   Urban|397511|\n",
      "|Suburban|401542|\n",
      "|   Rural|400947|\n",
      "+--------+------+\n",
      "\n",
      "None\n",
      "+-------------+------+\n",
      "|  Policy Type| count|\n",
      "+-------------+------+\n",
      "|      Premium|401846|\n",
      "|Comprehensive|399600|\n",
      "|        Basic|398554|\n",
      "+-------------+------+\n",
      "\n",
      "None\n",
      "+-----------------+------+\n",
      "|Customer Feedback| count|\n",
      "+-----------------+------+\n",
      "|             null| 77824|\n",
      "|          Average|377905|\n",
      "|             Good|368753|\n",
      "|             Poor|375518|\n",
      "+-----------------+------+\n",
      "\n",
      "None\n",
      "+--------------+------+\n",
      "|Smoking Status| count|\n",
      "+--------------+------+\n",
      "|            No|598127|\n",
      "|           Yes|601873|\n",
      "+--------------+------+\n",
      "\n",
      "None\n",
      "+------------------+------+\n",
      "|Exercise Frequency| count|\n",
      "+------------------+------+\n",
      "|            Rarely|299420|\n",
      "|           Monthly|299830|\n",
      "|             Daily|294571|\n",
      "|            Weekly|306179|\n",
      "+------------------+------+\n",
      "\n",
      "None\n",
      "+-------------+------+\n",
      "|Property Type| count|\n",
      "+-------------+------+\n",
      "|    Apartment|399978|\n",
      "|        Condo|399673|\n",
      "|        House|400349|\n",
      "+-------------+------+\n",
      "\n",
      "None\n"
     ]
    }
   ],
   "source": [
    "for col in categorical_features:\n",
    "    if(col!='Policy Start Date'):\n",
    "        print(df.groupby(col).count().show())"
   ]
  },
  {
   "cell_type": "code",
   "execution_count": 23,
   "id": "07055695",
   "metadata": {},
   "outputs": [
    {
     "data": {
      "text/plain": [
       "0"
      ]
     },
     "execution_count": 23,
     "metadata": {},
     "output_type": "execute_result"
    }
   ],
   "source": [
    "#Counting null values in data col\n",
    "df.where(df['Policy Start Date'].isNull()).count()"
   ]
  },
  {
   "cell_type": "code",
   "execution_count": 24,
   "id": "11d5677d",
   "metadata": {},
   "outputs": [
    {
     "data": {
      "text/plain": [
       "0"
      ]
     },
     "execution_count": 24,
     "metadata": {},
     "output_type": "execute_result"
    }
   ],
   "source": [
    "#Checking for null values in target col\n",
    "df.where(df['Premium Amount'].isNull()).count()"
   ]
  },
  {
   "cell_type": "code",
   "execution_count": 26,
   "id": "b2fc19d1",
   "metadata": {},
   "outputs": [],
   "source": [
    "def date_transform(df):\n",
    "    # Convert to date type\n",
    "    df = df.withColumn('Policy Start Date', F.to_date(col('Policy Start Date')))\n",
    "    # Extract date components\n",
    "    df = (df\n",
    "        .withColumn('Year', year(col('Policy Start Date')))\n",
    "        .withColumn('Day', dayofmonth(col('Policy Start Date')))\n",
    "        .withColumn('Month', month(col('Policy Start Date')))\n",
    "        .withColumn('Month_name', date_format(col('Policy Start Date'), 'MMMM'))\n",
    "        .withColumn('Day_of_week', date_format(col('Policy Start Date'), 'EEEE'))\n",
    "        .withColumn('Week', F.weekofyear(col('Policy Start Date')))\n",
    "    )\n",
    "    \n",
    "    # Calculate min and max year\n",
    "    min_year = df.select(F.min('Year')).first()[0]\n",
    "    max_year = df.select(F.max('Year')).first()[0]\n",
    "    \n",
    "    # Cyclical encoding\n",
    "    df = (df\n",
    "        .withColumn('Year_sin', \n",
    "            sin(2 * pi * (col('Year') - lit(min_year)) / (max_year - min_year))\n",
    "        )\n",
    "        .withColumn('Year_cos', \n",
    "            cos(2 * pi * (col('Year') - lit(min_year)) / (max_year - min_year))\n",
    "        )\n",
    "        .withColumn('Month_sin', sin(2 * pi * col('Month') / 12))\n",
    "        .withColumn('Month_cos', cos(2 * pi * col('Month') / 12))\n",
    "        .withColumn('Day_sin', sin(2 * pi * col('Day') / 31))\n",
    "        .withColumn('Day_cos', cos(2 * pi * col('Day') / 31))\n",
    "        .withColumn('Group', \n",
    "            (col('Year') - lit(2020)) * 48 + \n",
    "            col('Month') * 4 + \n",
    "            floor(col('Day') / 7)\n",
    "        )\n",
    "    )\n",
    "    \n",
    "    # Drop original date column\n",
    "    df = df.drop('Policy Start Date')\n",
    "    \n",
    "    return df\n",
    "\n",
    "# Usage\n",
    "df = date_transform(df)\n"
   ]
  },
  {
   "cell_type": "code",
   "execution_count": 65,
   "id": "a09fca29",
   "metadata": {},
   "outputs": [],
   "source": [
    "target_column=\"Premium Amount\"\n",
    "X=df.drop(target_column, 'id', 'Group', 'Year', 'Month', 'Day', 'Week')\n",
    "y=df.select(target_column)"
   ]
  },
  {
   "cell_type": "code",
   "execution_count": 66,
   "id": "f30af029",
   "metadata": {},
   "outputs": [
    {
     "data": {
      "text/plain": [
       "[('Age', 'double'),\n",
       " ('Gender', 'string'),\n",
       " ('Annual Income', 'double'),\n",
       " ('Marital Status', 'string'),\n",
       " ('Number of Dependents', 'double'),\n",
       " ('Education Level', 'string'),\n",
       " ('Occupation', 'string'),\n",
       " ('Health Score', 'double'),\n",
       " ('Location', 'string'),\n",
       " ('Policy Type', 'string'),\n",
       " ('Previous Claims', 'double'),\n",
       " ('Vehicle Age', 'double'),\n",
       " ('Credit Score', 'double'),\n",
       " ('Insurance Duration', 'double'),\n",
       " ('Customer Feedback', 'string'),\n",
       " ('Smoking Status', 'string'),\n",
       " ('Exercise Frequency', 'string'),\n",
       " ('Property Type', 'string'),\n",
       " ('Month_name', 'string'),\n",
       " ('Day_of_week', 'string'),\n",
       " ('Year_sin', 'double'),\n",
       " ('Year_cos', 'double'),\n",
       " ('Month_sin', 'double'),\n",
       " ('Month_cos', 'double'),\n",
       " ('Day_sin', 'double'),\n",
       " ('Day_cos', 'double')]"
      ]
     },
     "execution_count": 66,
     "metadata": {},
     "output_type": "execute_result"
    }
   ],
   "source": [
    "X.dtypes"
   ]
  },
  {
   "cell_type": "code",
   "execution_count": 67,
   "id": "69171021",
   "metadata": {},
   "outputs": [
    {
     "name": "stdout",
     "output_type": "stream",
     "text": [
      "Categorical Columns: ['Gender', 'Marital Status', 'Education Level', 'Occupation', 'Location', 'Policy Type', 'Customer Feedback', 'Smoking Status', 'Exercise Frequency', 'Property Type', 'Month_name', 'Day_of_week']\n",
      "Numerical Columns: ['Age', 'Annual Income', 'Number of Dependents', 'Health Score', 'Previous Claims', 'Vehicle Age', 'Credit Score', 'Insurance Duration', 'Year_sin', 'Year_cos', 'Month_sin', 'Month_cos', 'Day_sin', 'Day_cos']\n"
     ]
    }
   ],
   "source": [
    "# Get the data types of each column\n",
    "column_types = X.dtypes\n",
    "\n",
    "# Initialize lists for categorical and numerical columns\n",
    "categorical_features = []\n",
    "numerical_features = []\n",
    "\n",
    "# Classify columns based on their data types\n",
    "for cols in column_types:\n",
    "    column=cols[0]\n",
    "    dtype=cols[1]\n",
    "    if dtype in ['string', 'boolean','timestamp']:  # Categorical types\n",
    "        categorical_features.append(column)\n",
    "    elif dtype in ['int', 'bigint', 'float', 'double', 'decimal']:  # Numerical types\n",
    "        numerical_features.append(column)\n",
    "\n",
    "# Display the results\n",
    "print(\"Categorical Columns:\", categorical_features)\n",
    "print(\"Numerical Columns:\", numerical_features)"
   ]
  },
  {
   "cell_type": "code",
   "execution_count": 68,
   "id": "0fd87cc8",
   "metadata": {},
   "outputs": [],
   "source": [
    "#Categorical data Imputing\n",
    "X_cat = X.select([\n",
    "    when(col(c).isNull(), \"Unknown\")\n",
    "    .otherwise(col(c))\n",
    "    .alias(c) for c in categorical_features\n",
    "])"
   ]
  },
  {
   "cell_type": "code",
   "execution_count": 82,
   "id": "7fac7419",
   "metadata": {},
   "outputs": [],
   "source": [
    "#Selecting numerical features from data\n",
    "X_num = X.select(*numerical_features)"
   ]
  },
  {
   "cell_type": "code",
   "execution_count": 83,
   "id": "8d033182",
   "metadata": {},
   "outputs": [
    {
     "data": {
      "text/plain": [
       "[('Age', 'double'),\n",
       " ('Annual Income', 'double'),\n",
       " ('Number of Dependents', 'double'),\n",
       " ('Health Score', 'double'),\n",
       " ('Previous Claims', 'double'),\n",
       " ('Vehicle Age', 'double'),\n",
       " ('Credit Score', 'double'),\n",
       " ('Insurance Duration', 'double'),\n",
       " ('Year_sin', 'double'),\n",
       " ('Year_cos', 'double'),\n",
       " ('Month_sin', 'double'),\n",
       " ('Month_cos', 'double'),\n",
       " ('Day_sin', 'double'),\n",
       " ('Day_cos', 'double')]"
      ]
     },
     "execution_count": 83,
     "metadata": {},
     "output_type": "execute_result"
    }
   ],
   "source": [
    "X_num.dtypes"
   ]
  },
  {
   "cell_type": "code",
   "execution_count": 69,
   "id": "32866a4f",
   "metadata": {},
   "outputs": [
    {
     "data": {
      "text/plain": [
       "[('Gender', 'string'),\n",
       " ('Marital Status', 'string'),\n",
       " ('Education Level', 'string'),\n",
       " ('Occupation', 'string'),\n",
       " ('Location', 'string'),\n",
       " ('Policy Type', 'string'),\n",
       " ('Customer Feedback', 'string'),\n",
       " ('Smoking Status', 'string'),\n",
       " ('Exercise Frequency', 'string'),\n",
       " ('Property Type', 'string'),\n",
       " ('Month_name', 'string'),\n",
       " ('Day_of_week', 'string')]"
      ]
     },
     "execution_count": 69,
     "metadata": {},
     "output_type": "execute_result"
    }
   ],
   "source": [
    "X_cat.dtypes"
   ]
  },
  {
   "cell_type": "code",
   "execution_count": 86,
   "id": "dc61880d",
   "metadata": {},
   "outputs": [],
   "source": [
    "#OneHotEncoder\n",
    "indexers = [StringIndexer(inputCol=col, outputCol=col + \"_index\") for col in categorical_features]\n",
    "encoders = [OneHotEncoder(inputCol=col + \"_index\", outputCol=col + \"_encoded\") for col in categorical_features]\n",
    "\n",
    "# Create a pipeline\n",
    "pipeline = Pipeline(stages=indexers + encoders)\n",
    "\n",
    "# Fit and transform the data\n",
    "model = pipeline.fit(X_cat)\n",
    "X_cat = model.transform(X_cat)"
   ]
  },
  {
   "cell_type": "code",
   "execution_count": 87,
   "id": "8f6052fa",
   "metadata": {},
   "outputs": [
    {
     "data": {
      "text/plain": [
       "[('Gender', 'string'),\n",
       " ('Marital Status', 'string'),\n",
       " ('Education Level', 'string'),\n",
       " ('Occupation', 'string'),\n",
       " ('Location', 'string'),\n",
       " ('Policy Type', 'string'),\n",
       " ('Customer Feedback', 'string'),\n",
       " ('Smoking Status', 'string'),\n",
       " ('Exercise Frequency', 'string'),\n",
       " ('Property Type', 'string'),\n",
       " ('Month_name', 'string'),\n",
       " ('Day_of_week', 'string'),\n",
       " ('Gender_index', 'double'),\n",
       " ('Marital Status_index', 'double'),\n",
       " ('Education Level_index', 'double'),\n",
       " ('Occupation_index', 'double'),\n",
       " ('Location_index', 'double'),\n",
       " ('Policy Type_index', 'double'),\n",
       " ('Customer Feedback_index', 'double'),\n",
       " ('Smoking Status_index', 'double'),\n",
       " ('Exercise Frequency_index', 'double'),\n",
       " ('Property Type_index', 'double'),\n",
       " ('Month_name_index', 'double'),\n",
       " ('Day_of_week_index', 'double'),\n",
       " ('Gender_encoded', 'vector'),\n",
       " ('Marital Status_encoded', 'vector'),\n",
       " ('Education Level_encoded', 'vector'),\n",
       " ('Occupation_encoded', 'vector'),\n",
       " ('Location_encoded', 'vector'),\n",
       " ('Policy Type_encoded', 'vector'),\n",
       " ('Customer Feedback_encoded', 'vector'),\n",
       " ('Smoking Status_encoded', 'vector'),\n",
       " ('Exercise Frequency_encoded', 'vector'),\n",
       " ('Property Type_encoded', 'vector'),\n",
       " ('Month_name_encoded', 'vector'),\n",
       " ('Day_of_week_encoded', 'vector')]"
      ]
     },
     "execution_count": 87,
     "metadata": {},
     "output_type": "execute_result"
    }
   ],
   "source": [
    "X_cat.dtypes"
   ]
  },
  {
   "cell_type": "code",
   "execution_count": 84,
   "id": "3d4231a6",
   "metadata": {},
   "outputs": [],
   "source": [
    "# Create Imputer\n",
    "imputer = Imputer(\n",
    "    inputCols=numerical_features,\n",
    "    outputCols=numerical_features,\n",
    "    strategy='median'\n",
    ")\n",
    "\n",
    "# Fit and transform\n",
    "X_num = imputer.fit(X_num).transform(X_num)"
   ]
  },
  {
   "cell_type": "code",
   "execution_count": 85,
   "id": "ab9099e7",
   "metadata": {},
   "outputs": [
    {
     "data": {
      "text/plain": [
       "['Age',\n",
       " 'Annual Income',\n",
       " 'Number of Dependents',\n",
       " 'Health Score',\n",
       " 'Previous Claims',\n",
       " 'Vehicle Age',\n",
       " 'Credit Score',\n",
       " 'Insurance Duration',\n",
       " 'Year_sin',\n",
       " 'Year_cos',\n",
       " 'Month_sin',\n",
       " 'Month_cos',\n",
       " 'Day_sin',\n",
       " 'Day_cos']"
      ]
     },
     "execution_count": 85,
     "metadata": {},
     "output_type": "execute_result"
    }
   ],
   "source": [
    "X_num.columns"
   ]
  },
  {
   "cell_type": "code",
   "execution_count": 112,
   "id": "e0ba8bdd",
   "metadata": {},
   "outputs": [],
   "source": [
    "#Combining numerical and categorical cols horizontally and making clean df\n",
    "X_num_id = X_num.withColumn('id', monotonically_increasing_id())\n",
    "X_cat_id = X_cat.withColumn('id', monotonically_increasing_id())\n",
    "y_df=y.withColumn('id',monotonically_increasing_id())\n",
    "# Perform inner join\n",
    "horizontal_df = X_num_id.join(X_cat_id, 'id').join(y_df,'id')\n",
    "# Optional: Drop the ID column\n",
    "clean_df = horizontal_df.drop('id')"
   ]
  },
  {
   "cell_type": "code",
   "execution_count": 113,
   "id": "6d58e164",
   "metadata": {},
   "outputs": [
    {
     "data": {
      "text/plain": [
       "[('Age', 'double'),\n",
       " ('Annual Income', 'double'),\n",
       " ('Number of Dependents', 'double'),\n",
       " ('Health Score', 'double'),\n",
       " ('Previous Claims', 'double'),\n",
       " ('Vehicle Age', 'double'),\n",
       " ('Credit Score', 'double'),\n",
       " ('Insurance Duration', 'double'),\n",
       " ('Year_sin', 'double'),\n",
       " ('Year_cos', 'double'),\n",
       " ('Month_sin', 'double'),\n",
       " ('Month_cos', 'double'),\n",
       " ('Day_sin', 'double'),\n",
       " ('Day_cos', 'double'),\n",
       " ('Gender', 'string'),\n",
       " ('Marital Status', 'string'),\n",
       " ('Education Level', 'string'),\n",
       " ('Occupation', 'string'),\n",
       " ('Location', 'string'),\n",
       " ('Policy Type', 'string'),\n",
       " ('Customer Feedback', 'string'),\n",
       " ('Smoking Status', 'string'),\n",
       " ('Exercise Frequency', 'string'),\n",
       " ('Property Type', 'string'),\n",
       " ('Month_name', 'string'),\n",
       " ('Day_of_week', 'string'),\n",
       " ('Gender_index', 'double'),\n",
       " ('Marital Status_index', 'double'),\n",
       " ('Education Level_index', 'double'),\n",
       " ('Occupation_index', 'double'),\n",
       " ('Location_index', 'double'),\n",
       " ('Policy Type_index', 'double'),\n",
       " ('Customer Feedback_index', 'double'),\n",
       " ('Smoking Status_index', 'double'),\n",
       " ('Exercise Frequency_index', 'double'),\n",
       " ('Property Type_index', 'double'),\n",
       " ('Month_name_index', 'double'),\n",
       " ('Day_of_week_index', 'double'),\n",
       " ('Gender_encoded', 'vector'),\n",
       " ('Marital Status_encoded', 'vector'),\n",
       " ('Education Level_encoded', 'vector'),\n",
       " ('Occupation_encoded', 'vector'),\n",
       " ('Location_encoded', 'vector'),\n",
       " ('Policy Type_encoded', 'vector'),\n",
       " ('Customer Feedback_encoded', 'vector'),\n",
       " ('Smoking Status_encoded', 'vector'),\n",
       " ('Exercise Frequency_encoded', 'vector'),\n",
       " ('Property Type_encoded', 'vector'),\n",
       " ('Month_name_encoded', 'vector'),\n",
       " ('Day_of_week_encoded', 'vector'),\n",
       " ('Premium Amount', 'double')]"
      ]
     },
     "execution_count": 113,
     "metadata": {},
     "output_type": "execute_result"
    }
   ],
   "source": [
    "clean_df.dtypes"
   ]
  },
  {
   "cell_type": "code",
   "execution_count": 114,
   "id": "65502f71",
   "metadata": {},
   "outputs": [],
   "source": [
    "def clean_column_name(col_name):\n",
    "    # Remove or replace spaces and special characters\n",
    "    return ''.join(c if c.isalnum() or c in ['_', '-'] else '_' for c in col_name)\n",
    "\n",
    "df_cleaned = clean_df.toDF(*[clean_column_name(col) for col in clean_df.columns])"
   ]
  },
  {
   "cell_type": "code",
   "execution_count": 115,
   "id": "84ccb88f",
   "metadata": {},
   "outputs": [
    {
     "data": {
      "text/plain": [
       "(1200000, 51)"
      ]
     },
     "execution_count": 115,
     "metadata": {},
     "output_type": "execute_result"
    }
   ],
   "source": [
    "df_cleaned.count(),len(df_cleaned.columns)"
   ]
  },
  {
   "cell_type": "code",
   "execution_count": 116,
   "id": "abe92581",
   "metadata": {},
   "outputs": [],
   "source": [
    "#Saving cleaned file in parquet format\n",
    "path=!pwd\n",
    "path=\"file://\"+path[0]+\"/df_cleaned\""
   ]
  },
  {
   "cell_type": "code",
   "execution_count": 117,
   "id": "e53d9be1",
   "metadata": {},
   "outputs": [],
   "source": [
    "df_cleaned.coalesce(1).write.format(\"parquet\").save(path)"
   ]
  },
  {
   "cell_type": "code",
   "execution_count": null,
   "id": "4c4247f3",
   "metadata": {},
   "outputs": [],
   "source": []
  }
 ],
 "metadata": {
  "kernelspec": {
   "display_name": "Python 3",
   "language": "python",
   "name": "python3"
  },
  "language_info": {
   "codemirror_mode": {
    "name": "ipython",
    "version": 3
   },
   "file_extension": ".py",
   "mimetype": "text/x-python",
   "name": "python",
   "nbconvert_exporter": "python",
   "pygments_lexer": "ipython3",
   "version": "3.6.9"
  }
 },
 "nbformat": 4,
 "nbformat_minor": 5
}
